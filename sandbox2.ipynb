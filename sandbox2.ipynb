{
 "cells": [
  {
   "cell_type": "code",
   "execution_count": 76,
   "metadata": {},
   "outputs": [],
   "source": [
    "from blueprint.host_utilities import find_data_comports\n",
    "from blueprint import communicator\n",
    "from blueprint.messages import make_message\n",
    "\n",
    "ports = find_data_comports()\n",
    "subs = [communicator.Communicator(port= p['port']) for p in ports]"
   ]
  },
  {
   "cell_type": "code",
   "execution_count": 98,
   "metadata": {},
   "outputs": [],
   "source": [
    "msg = make_message(comm_type='REQUEST',payload=\"dispense 0 500\")\n",
    "subs[0].writebuffer.store_message(msg)\n",
    "subs[0].write_serial_data()\n"
   ]
  },
  {
   "cell_type": "code",
   "execution_count": null,
   "metadata": {},
   "outputs": [],
   "source": [
    "from communicate.message import Message\n",
    "from communicate.message_buffer import LinearMessageBuffer\n",
    "m = Message.create_message(subsystem_name='pump', status=\"INFO\", payload=\"pump started\")\n",
    "inbox = LinearMessageBuffer()\n",
    "inbox.store(m)"
   ]
  },
  {
   "cell_type": "code",
   "execution_count": 5,
   "metadata": {},
   "outputs": [],
   "source": [
    "inbox.get()"
   ]
  },
  {
   "cell_type": "code",
   "execution_count": 1,
   "metadata": {},
   "outputs": [],
   "source": [
    "from communicate.host_utilities import find_data_comports\n",
    "from communicate.serial_postman import SerialPostman\n",
    "\n",
    "ports = find_data_comports()\n",
    "ports[0][\"protocol\"]=\"serial\"\n",
    "postman = SerialPostman(ports[0])\n",
    "postman.open_channel()"
   ]
  },
  {
   "cell_type": "code",
   "execution_count": 2,
   "metadata": {},
   "outputs": [],
   "source": [
    "postman.send('hello')"
   ]
  },
  {
   "cell_type": "code",
   "execution_count": 3,
   "metadata": {},
   "outputs": [
    {
     "data": {
      "text/plain": [
       "'hello back'"
      ]
     },
     "execution_count": 3,
     "metadata": {},
     "output_type": "execute_result"
    }
   ],
   "source": [
    "postman.receive()"
   ]
  }
 ],
 "metadata": {
  "kernelspec": {
   "display_name": ".venv",
   "language": "python",
   "name": "python3"
  },
  "language_info": {
   "codemirror_mode": {
    "name": "ipython",
    "version": 3
   },
   "file_extension": ".py",
   "mimetype": "text/x-python",
   "name": "python",
   "nbconvert_exporter": "python",
   "pygments_lexer": "ipython3",
   "version": "3.11.3"
  }
 },
 "nbformat": 4,
 "nbformat_minor": 2
}
