{
 "cells": [
  {
   "cell_type": "code",
   "execution_count": 8,
   "metadata": {},
   "outputs": [],
   "source": [
    "from blueprint_optimize.blueprint.host_utilities import find_data_comports\n",
    "from blueprint_optimize.blueprint import sdl_communicator\n",
    "from blueprint_optimize.blueprint.messages import make_message\n",
    "\n",
    "ports = find_data_comports()\n",
    "subs = [sdl_communicator.sdlCommunicator(port= p['port']) for p in ports]"
   ]
  },
  {
   "cell_type": "code",
   "execution_count": 17,
   "metadata": {},
   "outputs": [],
   "source": [
    "msg = make_message(comm_type='REQUEST',payload=\"stir high\")\n",
    "subs[0].writebuffer.store_message(msg)\n",
    "subs[0].write_serial_data()"
   ]
  },
  {
   "cell_type": "code",
   "execution_count": 33,
   "metadata": {},
   "outputs": [
    {
     "name": "stdout",
     "output_type": "stream",
     "text": [
      "here is a list of commands:\n",
      "add\n",
      "list\n",
      "describe.\n",
      "Creates a list of commands that the microcontroller understands.\n",
      "here is a list of commands:\n",
      "add\n",
      "list\n",
      "describe\n",
      "newfunc.\n",
      "Says something nice about the input\n",
      "arg[0] is a number\n",
      "Returns the description of the command, which should be the function docstring.\n"
     ]
    }
   ],
   "source": [
    "import inspect\n",
    "\n",
    "class CommandRegistry:\n",
    "    def __init__(self, commands = None):\n",
    "        # Must include the default class functions manually\n",
    "        self.commands = {\n",
    "            \"add\" : {\n",
    "                'function': self.add_command,\n",
    "                'description' : inspect.getdoc(self.add_command)\n",
    "            },\n",
    "            \"list\": {\n",
    "                'function' : self.list_commands,\n",
    "                'description' : inspect.getdoc(self.list_commands)\n",
    "            },\n",
    "            \"describe\" : {\n",
    "                'function': self.describe_command,\n",
    "                'description' : inspect.getdoc(self.describe_command)\n",
    "            },\n",
    "        }\n",
    "    \n",
    "    def add_command(self, cmd, func):\n",
    "        \"\"\"\n",
    "        Adds a command to the command dictionary. Allows for the command and function to not have the same name\n",
    "        \"\"\"\n",
    "        cmd_dict = {\n",
    "            cmd: {\n",
    "                'function' : func,\n",
    "                'description' : inspect.getdoc(func)\n",
    "            }\n",
    "        }\n",
    "        self.commands.update(cmd_dict)\n",
    "\n",
    "\n",
    "    def list_commands(self):\n",
    "        \"\"\"\n",
    "        Creates a list of commands that the microcontroller understands.\n",
    "        \"\"\"\n",
    "        cmd_list = '\\n'.join(self.commands.keys())\n",
    "        print(f'here is a list of commands:\\n{cmd_list}.')\n",
    "    \n",
    "    def describe_command(self, cmd):\n",
    "        \"\"\"\n",
    "        Returns the description of the command, which should be the function docstring.\n",
    "        \"\"\"\n",
    "        if cmd in self.commands:\n",
    "            print(self.commands[cmd]['description'])\n",
    "        else:\n",
    "            print(f'Command {cmd} not found.')\n",
    "    \n",
    "\n",
    "    \n",
    "    def do(self, cmd, args):\n",
    "        if cmd in self.commands:\n",
    "            self.commands[cmd]['function'](args)\n",
    "        else:\n",
    "            print(f'Could not find {cmd}')\n",
    "\n",
    "sdl = CommandRegistry()\n",
    "sdl.list_commands()\n",
    "sdl.describe_command('list')\n",
    "def newfunc(*args):\n",
    "    \"\"\"\n",
    "    Says something nice about the input\n",
    "    arg[0] is a number\n",
    "    \"\"\"\n",
    "    print(f'{args[0]} is a nice number')\n",
    "sdl.add_command(\"newfunc\",newfunc)\n",
    "sdl.list_commands()    \n",
    "sdl.describe_command('newfunc')\n",
    "sdl.do('describe','describe')"
   ]
  },
  {
   "cell_type": "code",
   "execution_count": null,
   "metadata": {},
   "outputs": [],
   "source": []
  }
 ],
 "metadata": {
  "kernelspec": {
   "display_name": ".venv",
   "language": "python",
   "name": "python3"
  },
  "language_info": {
   "codemirror_mode": {
    "name": "ipython",
    "version": 3
   },
   "file_extension": ".py",
   "mimetype": "text/x-python",
   "name": "python",
   "nbconvert_exporter": "python",
   "pygments_lexer": "ipython3",
   "version": "3.11.5"
  }
 },
 "nbformat": 4,
 "nbformat_minor": 2
}
