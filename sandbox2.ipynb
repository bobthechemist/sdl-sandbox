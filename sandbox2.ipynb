{
 "cells": [
  {
   "cell_type": "code",
   "execution_count": 8,
   "metadata": {},
   "outputs": [],
   "source": [
    "from blueprint_optimize.blueprint.host_utilities import find_data_comports\n",
    "from blueprint_optimize.blueprint import sdl_communicator\n",
    "from blueprint_optimize.blueprint.messages import make_message\n",
    "\n",
    "ports = find_data_comports()\n",
    "subs = [sdl_communicator.sdlCommunicator(port= p['port']) for p in ports]"
   ]
  },
  {
   "cell_type": "code",
   "execution_count": 17,
   "metadata": {},
   "outputs": [],
   "source": [
    "msg = make_message(comm_type='REQUEST',payload=\"stir high\")\n",
    "subs[0].writebuffer.store_message(msg)\n",
    "subs[0].write_serial_data()"
   ]
  },
  {
   "cell_type": "code",
   "execution_count": 16,
   "metadata": {},
   "outputs": [],
   "source": []
  },
  {
   "cell_type": "code",
   "execution_count": null,
   "metadata": {},
   "outputs": [],
   "source": []
  }
 ],
 "metadata": {
  "kernelspec": {
   "display_name": ".venv",
   "language": "python",
   "name": "python3"
  },
  "language_info": {
   "codemirror_mode": {
    "name": "ipython",
    "version": 3
   },
   "file_extension": ".py",
   "mimetype": "text/x-python",
   "name": "python",
   "nbconvert_exporter": "python",
   "pygments_lexer": "ipython3",
   "version": "3.11.3"
  }
 },
 "nbformat": 4,
 "nbformat_minor": 2
}
