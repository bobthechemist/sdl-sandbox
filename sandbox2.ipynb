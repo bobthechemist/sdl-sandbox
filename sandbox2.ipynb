{
 "cells": [
  {
   "cell_type": "code",
   "execution_count": 11,
   "metadata": {},
   "outputs": [
    {
     "ename": "SerialException",
     "evalue": "could not open port 'COM35': PermissionError(13, 'Access is denied.', None, 5)",
     "output_type": "error",
     "traceback": [
      "\u001b[1;31m---------------------------------------------------------------------------\u001b[0m",
      "\u001b[1;31mSerialException\u001b[0m                           Traceback (most recent call last)",
      "Cell \u001b[1;32mIn[11], line 6\u001b[0m\n\u001b[0;32m      3\u001b[0m \u001b[38;5;28;01mfrom\u001b[39;00m \u001b[38;5;21;01mblueprint\u001b[39;00m\u001b[38;5;21;01m.\u001b[39;00m\u001b[38;5;21;01mmessages\u001b[39;00m \u001b[38;5;28;01mimport\u001b[39;00m make_message\n\u001b[0;32m      5\u001b[0m ports \u001b[38;5;241m=\u001b[39m find_data_comports()\n\u001b[1;32m----> 6\u001b[0m subs \u001b[38;5;241m=\u001b[39m \u001b[43m[\u001b[49m\u001b[43mcommunicator\u001b[49m\u001b[38;5;241;43m.\u001b[39;49m\u001b[43mCommunicator\u001b[49m\u001b[43m(\u001b[49m\u001b[43mport\u001b[49m\u001b[38;5;241;43m=\u001b[39;49m\u001b[43m \u001b[49m\u001b[43mp\u001b[49m\u001b[43m[\u001b[49m\u001b[38;5;124;43m'\u001b[39;49m\u001b[38;5;124;43mport\u001b[39;49m\u001b[38;5;124;43m'\u001b[39;49m\u001b[43m]\u001b[49m\u001b[43m)\u001b[49m\u001b[43m \u001b[49m\u001b[38;5;28;43;01mfor\u001b[39;49;00m\u001b[43m \u001b[49m\u001b[43mp\u001b[49m\u001b[43m \u001b[49m\u001b[38;5;129;43;01min\u001b[39;49;00m\u001b[43m \u001b[49m\u001b[43mports\u001b[49m\u001b[43m]\u001b[49m\n",
      "Cell \u001b[1;32mIn[11], line 6\u001b[0m, in \u001b[0;36m<listcomp>\u001b[1;34m(.0)\u001b[0m\n\u001b[0;32m      3\u001b[0m \u001b[38;5;28;01mfrom\u001b[39;00m \u001b[38;5;21;01mblueprint\u001b[39;00m\u001b[38;5;21;01m.\u001b[39;00m\u001b[38;5;21;01mmessages\u001b[39;00m \u001b[38;5;28;01mimport\u001b[39;00m make_message\n\u001b[0;32m      5\u001b[0m ports \u001b[38;5;241m=\u001b[39m find_data_comports()\n\u001b[1;32m----> 6\u001b[0m subs \u001b[38;5;241m=\u001b[39m [\u001b[43mcommunicator\u001b[49m\u001b[38;5;241;43m.\u001b[39;49m\u001b[43mCommunicator\u001b[49m\u001b[43m(\u001b[49m\u001b[43mport\u001b[49m\u001b[38;5;241;43m=\u001b[39;49m\u001b[43m \u001b[49m\u001b[43mp\u001b[49m\u001b[43m[\u001b[49m\u001b[38;5;124;43m'\u001b[39;49m\u001b[38;5;124;43mport\u001b[39;49m\u001b[38;5;124;43m'\u001b[39;49m\u001b[43m]\u001b[49m\u001b[43m)\u001b[49m \u001b[38;5;28;01mfor\u001b[39;00m p \u001b[38;5;129;01min\u001b[39;00m ports]\n",
      "File \u001b[1;32mc:\\Users\\rlesuer\\OneDrive - SUNY Brockport\\Documents\\GitHub\\sdl-sandbox\\blueprint\\communicator.py:55\u001b[0m, in \u001b[0;36mCommunicator.__init__\u001b[1;34m(self, subsystem_name, port, baudrate, timeout)\u001b[0m\n\u001b[0;32m     53\u001b[0m \u001b[38;5;28mself\u001b[39m\u001b[38;5;241m.\u001b[39mreadbuffer \u001b[38;5;241m=\u001b[39m MessageBuffer()\n\u001b[0;32m     54\u001b[0m \u001b[38;5;28;01mif\u001b[39;00m \u001b[38;5;129;01mnot\u001b[39;00m \u001b[38;5;28mself\u001b[39m\u001b[38;5;241m.\u001b[39mis_microcontroller:\n\u001b[1;32m---> 55\u001b[0m     \u001b[38;5;28mself\u001b[39m\u001b[38;5;241m.\u001b[39mserial \u001b[38;5;241m=\u001b[39m \u001b[43mserial\u001b[49m\u001b[38;5;241;43m.\u001b[39;49m\u001b[43mSerial\u001b[49m\u001b[43m(\u001b[49m\u001b[43mport\u001b[49m\u001b[43m,\u001b[49m\u001b[43m \u001b[49m\u001b[43mbaudrate\u001b[49m\u001b[38;5;241;43m=\u001b[39;49m\u001b[43mbaudrate\u001b[49m\u001b[43m,\u001b[49m\u001b[43m \u001b[49m\u001b[43mtimeout\u001b[49m\u001b[38;5;241;43m=\u001b[39;49m\u001b[43mtimeout\u001b[49m\u001b[43m)\u001b[49m\n",
      "File \u001b[1;32mc:\\Users\\rlesuer\\OneDrive - SUNY Brockport\\Documents\\GitHub\\sdl-sandbox\\.venv\\Lib\\site-packages\\serial\\serialwin32.py:33\u001b[0m, in \u001b[0;36mSerial.__init__\u001b[1;34m(self, *args, **kwargs)\u001b[0m\n\u001b[0;32m     31\u001b[0m \u001b[38;5;28mself\u001b[39m\u001b[38;5;241m.\u001b[39m_overlapped_read \u001b[38;5;241m=\u001b[39m \u001b[38;5;28;01mNone\u001b[39;00m\n\u001b[0;32m     32\u001b[0m \u001b[38;5;28mself\u001b[39m\u001b[38;5;241m.\u001b[39m_overlapped_write \u001b[38;5;241m=\u001b[39m \u001b[38;5;28;01mNone\u001b[39;00m\n\u001b[1;32m---> 33\u001b[0m \u001b[38;5;28;43msuper\u001b[39;49m\u001b[43m(\u001b[49m\u001b[43mSerial\u001b[49m\u001b[43m,\u001b[49m\u001b[43m \u001b[49m\u001b[38;5;28;43mself\u001b[39;49m\u001b[43m)\u001b[49m\u001b[38;5;241;43m.\u001b[39;49m\u001b[38;5;21;43m__init__\u001b[39;49m\u001b[43m(\u001b[49m\u001b[38;5;241;43m*\u001b[39;49m\u001b[43margs\u001b[49m\u001b[43m,\u001b[49m\u001b[43m \u001b[49m\u001b[38;5;241;43m*\u001b[39;49m\u001b[38;5;241;43m*\u001b[39;49m\u001b[43mkwargs\u001b[49m\u001b[43m)\u001b[49m\n",
      "File \u001b[1;32mc:\\Users\\rlesuer\\OneDrive - SUNY Brockport\\Documents\\GitHub\\sdl-sandbox\\.venv\\Lib\\site-packages\\serial\\serialutil.py:244\u001b[0m, in \u001b[0;36mSerialBase.__init__\u001b[1;34m(self, port, baudrate, bytesize, parity, stopbits, timeout, xonxoff, rtscts, write_timeout, dsrdtr, inter_byte_timeout, exclusive, **kwargs)\u001b[0m\n\u001b[0;32m    241\u001b[0m     \u001b[38;5;28;01mraise\u001b[39;00m \u001b[38;5;167;01mValueError\u001b[39;00m(\u001b[38;5;124m'\u001b[39m\u001b[38;5;124munexpected keyword arguments: \u001b[39m\u001b[38;5;132;01m{!r}\u001b[39;00m\u001b[38;5;124m'\u001b[39m\u001b[38;5;241m.\u001b[39mformat(kwargs))\n\u001b[0;32m    243\u001b[0m \u001b[38;5;28;01mif\u001b[39;00m port \u001b[38;5;129;01mis\u001b[39;00m \u001b[38;5;129;01mnot\u001b[39;00m \u001b[38;5;28;01mNone\u001b[39;00m:\n\u001b[1;32m--> 244\u001b[0m     \u001b[38;5;28;43mself\u001b[39;49m\u001b[38;5;241;43m.\u001b[39;49m\u001b[43mopen\u001b[49m\u001b[43m(\u001b[49m\u001b[43m)\u001b[49m\n",
      "File \u001b[1;32mc:\\Users\\rlesuer\\OneDrive - SUNY Brockport\\Documents\\GitHub\\sdl-sandbox\\.venv\\Lib\\site-packages\\serial\\serialwin32.py:64\u001b[0m, in \u001b[0;36mSerial.open\u001b[1;34m(self)\u001b[0m\n\u001b[0;32m     62\u001b[0m \u001b[38;5;28;01mif\u001b[39;00m \u001b[38;5;28mself\u001b[39m\u001b[38;5;241m.\u001b[39m_port_handle \u001b[38;5;241m==\u001b[39m win32\u001b[38;5;241m.\u001b[39mINVALID_HANDLE_VALUE:\n\u001b[0;32m     63\u001b[0m     \u001b[38;5;28mself\u001b[39m\u001b[38;5;241m.\u001b[39m_port_handle \u001b[38;5;241m=\u001b[39m \u001b[38;5;28;01mNone\u001b[39;00m    \u001b[38;5;66;03m# 'cause __del__ is called anyway\u001b[39;00m\n\u001b[1;32m---> 64\u001b[0m     \u001b[38;5;28;01mraise\u001b[39;00m SerialException(\u001b[38;5;124m\"\u001b[39m\u001b[38;5;124mcould not open port \u001b[39m\u001b[38;5;132;01m{!r}\u001b[39;00m\u001b[38;5;124m: \u001b[39m\u001b[38;5;132;01m{!r}\u001b[39;00m\u001b[38;5;124m\"\u001b[39m\u001b[38;5;241m.\u001b[39mformat(\u001b[38;5;28mself\u001b[39m\u001b[38;5;241m.\u001b[39mportstr, ctypes\u001b[38;5;241m.\u001b[39mWinError()))\n\u001b[0;32m     66\u001b[0m \u001b[38;5;28;01mtry\u001b[39;00m:\n\u001b[0;32m     67\u001b[0m     \u001b[38;5;28mself\u001b[39m\u001b[38;5;241m.\u001b[39m_overlapped_read \u001b[38;5;241m=\u001b[39m win32\u001b[38;5;241m.\u001b[39mOVERLAPPED()\n",
      "\u001b[1;31mSerialException\u001b[0m: could not open port 'COM35': PermissionError(13, 'Access is denied.', None, 5)"
     ]
    }
   ],
   "source": [
    "from blueprint.host_utilities import find_data_comports\n",
    "from blueprint import communicator\n",
    "from blueprint.messages import make_message\n",
    "\n",
    "ports = find_data_comports()\n",
    "subs = [communicator.Communicator(port= p['port']) for p in ports]"
   ]
  },
  {
   "cell_type": "code",
   "execution_count": 12,
   "metadata": {},
   "outputs": [],
   "source": [
    "msg = make_message(comm_type='REQUEST',payload=\"low\")\n",
    "subs[0].writebuffer.store_message(msg)\n",
    "subs[0].write_serial_data()"
   ]
  },
  {
   "cell_type": "code",
   "execution_count": 33,
   "metadata": {},
   "outputs": [
    {
     "name": "stdout",
     "output_type": "stream",
     "text": [
      "here is a list of commands:\n",
      "add\n",
      "list\n",
      "describe.\n",
      "Creates a list of commands that the microcontroller understands.\n",
      "here is a list of commands:\n",
      "add\n",
      "list\n",
      "describe\n",
      "newfunc.\n",
      "Says something nice about the input\n",
      "arg[0] is a number\n",
      "Returns the description of the command, which should be the function docstring.\n"
     ]
    }
   ],
   "source": [
    "import inspect\n",
    "\n",
    "class CommandRegistry:\n",
    "    def __init__(self, commands = None):\n",
    "        # Must include the default class functions manually\n",
    "        self.commands = {\n",
    "            \"add\" : {\n",
    "                'function': self.add_command,\n",
    "                'description' : inspect.getdoc(self.add_command)\n",
    "            },\n",
    "            \"list\": {\n",
    "                'function' : self.list_commands,\n",
    "                'description' : inspect.getdoc(self.list_commands)\n",
    "            },\n",
    "            \"describe\" : {\n",
    "                'function': self.describe_command,\n",
    "                'description' : inspect.getdoc(self.describe_command)\n",
    "            },\n",
    "        }\n",
    "    \n",
    "    def add_command(self, cmd, func):\n",
    "        \"\"\"\n",
    "        Adds a command to the command dictionary. Allows for the command and function to not have the same name\n",
    "        \"\"\"\n",
    "        cmd_dict = {\n",
    "            cmd: {\n",
    "                'function' : func,\n",
    "                'description' : inspect.getdoc(func)\n",
    "            }\n",
    "        }\n",
    "        self.commands.update(cmd_dict)\n",
    "\n",
    "\n",
    "    def list_commands(self):\n",
    "        \"\"\"\n",
    "        Creates a list of commands that the microcontroller understands.\n",
    "        \"\"\"\n",
    "        cmd_list = '\\n'.join(self.commands.keys())\n",
    "        print(f'here is a list of commands:\\n{cmd_list}.')\n",
    "    \n",
    "    def describe_command(self, cmd):\n",
    "        \"\"\"\n",
    "        Returns the description of the command, which should be the function docstring.\n",
    "        \"\"\"\n",
    "        if cmd in self.commands:\n",
    "            print(self.commands[cmd]['description'])\n",
    "        else:\n",
    "            print(f'Command {cmd} not found.')\n",
    "    \n",
    "\n",
    "    \n",
    "    def do(self, cmd, args):\n",
    "        if cmd in self.commands:\n",
    "            self.commands[cmd]['function'](args)\n",
    "        else:\n",
    "            print(f'Could not find {cmd}')\n",
    "\n",
    "sdl = CommandRegistry()\n",
    "sdl.list_commands()\n",
    "sdl.describe_command('list')\n",
    "def newfunc(*args):\n",
    "    \"\"\"\n",
    "    Says something nice about the input\n",
    "    arg[0] is a number\n",
    "    \"\"\"\n",
    "    print(f'{args[0]} is a nice number')\n",
    "sdl.add_command(\"newfunc\",newfunc)\n",
    "sdl.list_commands()    \n",
    "sdl.describe_command('newfunc')\n",
    "sdl.do('describe','describe')"
   ]
  },
  {
   "cell_type": "code",
   "execution_count": 6,
   "metadata": {},
   "outputs": [
    {
     "name": "stdout",
     "output_type": "stream",
     "text": [
      "Python Library Documentation: package blueprint_optimize.blueprint in blueprint_optimize\n",
      "\n",
      "NAME\n",
      "    blueprint_optimize.blueprint\n",
      "\n",
      "PACKAGE CONTENTS\n",
      "    communicator\n",
      "    host_utilities\n",
      "    messages\n",
      "    statemachine\n",
      "    utility\n",
      "\n",
      "FILE\n",
      "    c:\\users\\bob\\documents\\github\\sdl-sandbox\\blueprint_optimize\\blueprint\\__init__.py\n",
      "\n",
      "\n"
     ]
    }
   ],
   "source": [
    "import pydoc\n",
    "import blueprint_optimize.blueprint\n",
    "\n",
    "print(pydoc.render_doc(blueprint_optimize.blueprint))"
   ]
  }
 ],
 "metadata": {
  "kernelspec": {
   "display_name": ".venv",
   "language": "python",
   "name": "python3"
  },
  "language_info": {
   "codemirror_mode": {
    "name": "ipython",
    "version": 3
   },
   "file_extension": ".py",
   "mimetype": "text/x-python",
   "name": "python",
   "nbconvert_exporter": "python",
   "pygments_lexer": "ipython3",
   "version": "3.11.3"
  }
 },
 "nbformat": 4,
 "nbformat_minor": 2
}
