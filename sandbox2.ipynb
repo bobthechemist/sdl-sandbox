{
 "cells": [
  {
   "cell_type": "code",
   "execution_count": 76,
   "metadata": {},
   "outputs": [],
   "source": [
    "from blueprint.host_utilities import find_data_comports\n",
    "from blueprint import communicator\n",
    "from blueprint.messages import make_message\n",
    "\n",
    "ports = find_data_comports()\n",
    "subs = [communicator.Communicator(port= p['port']) for p in ports]"
   ]
  },
  {
   "cell_type": "code",
   "execution_count": 98,
   "metadata": {},
   "outputs": [],
   "source": [
    "msg = make_message(comm_type='REQUEST',payload=\"dispense 0 500\")\n",
    "subs[0].writebuffer.store_message(msg)\n",
    "subs[0].write_serial_data()\n"
   ]
  },
  {
   "cell_type": "code",
   "execution_count": 99,
   "metadata": {},
   "outputs": [],
   "source": [
    "def d(pump, volume):\n",
    "    msg = make_message(comm_type='REQUEST', payload=f'dispense {pump} {volume}')\n",
    "    subs[0].writebuffer.store_message(msg)\n",
    "    subs[0].write_serial_data()\n",
    "    "
   ]
  },
  {
   "cell_type": "code",
   "execution_count": 128,
   "metadata": {},
   "outputs": [],
   "source": [
    "out = [d(i,1000) for i in range(4)]\n"
   ]
  },
  {
   "cell_type": "code",
   "execution_count": 126,
   "metadata": {},
   "outputs": [],
   "source": [
    "d(3,100)"
   ]
  }
 ],
 "metadata": {
  "kernelspec": {
   "display_name": ".venv",
   "language": "python",
   "name": "python3"
  },
  "language_info": {
   "codemirror_mode": {
    "name": "ipython",
    "version": 3
   },
   "file_extension": ".py",
   "mimetype": "text/x-python",
   "name": "python",
   "nbconvert_exporter": "python",
   "pygments_lexer": "ipython3",
   "version": "3.11.3"
  }
 },
 "nbformat": 4,
 "nbformat_minor": 2
}
