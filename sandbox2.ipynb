{
 "cells": [
  {
   "cell_type": "code",
   "execution_count": 1,
   "metadata": {},
   "outputs": [],
   "source": [
    "from blueprint_optimize.blueprint.host_utilities import find_data_comports\n",
    "from blueprint_optimize.blueprint import communicator\n",
    "from blueprint_optimize.blueprint.messages import make_message\n",
    "\n",
    "ports = find_data_comports()\n",
    "subs = [communicator.Communicator(port= p['port']) for p in ports]"
   ]
  },
  {
   "cell_type": "code",
   "execution_count": 2,
   "metadata": {},
   "outputs": [],
   "source": [
    "msg = make_message(comm_type='REQUEST',payload=\"blink 1 2 3\")\n",
    "subs[0].writebuffer.store_message(msg)"
   ]
  },
  {
   "cell_type": "code",
   "execution_count": 3,
   "metadata": {},
   "outputs": [],
   "source": [
    "subs[0].write_serial_data()"
   ]
  },
  {
   "cell_type": "code",
   "execution_count": 6,
   "metadata": {},
   "outputs": [
    {
     "name": "stdout",
     "output_type": "stream",
     "text": [
      "Python Library Documentation: package blueprint_optimize.blueprint in blueprint_optimize\n",
      "\n",
      "NAME\n",
      "    blueprint_optimize.blueprint\n",
      "\n",
      "PACKAGE CONTENTS\n",
      "    communicator\n",
      "    host_utilities\n",
      "    messages\n",
      "    statemachine\n",
      "    utility\n",
      "\n",
      "FILE\n",
      "    c:\\users\\bob\\documents\\github\\sdl-sandbox\\blueprint_optimize\\blueprint\\__init__.py\n",
      "\n",
      "\n"
     ]
    }
   ],
   "source": [
    "import pydoc\n",
    "import blueprint_optimize.blueprint\n",
    "\n",
    "print(pydoc.render_doc(blueprint_optimize.blueprint))"
   ]
  }
 ],
 "metadata": {
  "kernelspec": {
   "display_name": ".venv",
   "language": "python",
   "name": "python3"
  },
  "language_info": {
   "codemirror_mode": {
    "name": "ipython",
    "version": 3
   },
   "file_extension": ".py",
   "mimetype": "text/x-python",
   "name": "python",
   "nbconvert_exporter": "python",
   "pygments_lexer": "ipython3",
   "version": "3.11.5"
  }
 },
 "nbformat": 4,
 "nbformat_minor": 2
}
