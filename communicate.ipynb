{
 "cells": [
  {
   "cell_type": "code",
   "execution_count": 1,
   "id": "159b11e0",
   "metadata": {},
   "outputs": [],
   "source": [
    "from communicate.message_buffer import LinearMessageBuffer\n",
    "from communicate.postman import DummyPostman\n",
    "from communicate.secretary import SecretaryStateMachine\n",
    "\n",
    "inbox = LinearMessageBuffer()\n",
    "outbox = LinearMessageBuffer()\n",
    "postman = DummyPostman({\"protocol\":\"dummy\"})\n",
    "secretary = SecretaryStateMachine(\n",
    "    inbox=inbox, \n",
    "    outbox=outbox, \n",
    "    postman=postman, \n",
    "    subsystem_router=None, \n",
    "    filer=None, name=\"bob\")\n",
    "\n",
    "inbox.store({\"message_type\": \"INFO\", \"payload\":\"This is a message\" })\n",
    "\n",
    "secretary.run()"
   ]
  },
  {
   "cell_type": "code",
   "execution_count": 2,
   "id": "a76299a4",
   "metadata": {},
   "outputs": [
    {
     "name": "stdout",
     "output_type": "stream",
     "text": [
      "<communicate.secretary.Monitoring object at 0x000001F2AF3ECED0>\n"
     ]
    }
   ],
   "source": [
    "print(secretary.state)"
   ]
  },
  {
   "cell_type": "code",
   "execution_count": null,
   "id": "f22de541",
   "metadata": {},
   "outputs": [],
   "source": []
  }
 ],
 "metadata": {
  "kernelspec": {
   "display_name": ".venv",
   "language": "python",
   "name": "python3"
  },
  "language_info": {
   "codemirror_mode": {
    "name": "ipython",
    "version": 3
   },
   "file_extension": ".py",
   "mimetype": "text/x-python",
   "name": "python",
   "nbconvert_exporter": "python",
   "pygments_lexer": "ipython3",
   "version": "3.11.3"
  }
 },
 "nbformat": 4,
 "nbformat_minor": 5
}
