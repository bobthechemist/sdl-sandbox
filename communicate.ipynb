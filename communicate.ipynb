{
 "cells": [
  {
   "cell_type": "code",
   "execution_count": null,
   "id": "159b11e0",
   "metadata": {},
   "outputs": [],
   "source": [
    "from communicate.message_buffer import LinearMessageBuffer\n",
    "from communicate.postman import DummyPostman\n",
    "from communicate.secretary import SecretaryStateMachine, CircularFiler\n",
    "#import logging\n",
    "\n",
    "inbox = LinearMessageBuffer()\n",
    "outbox = LinearMessageBuffer()\n",
    "postman = DummyPostman({\"protocol\":\"dummy\"})\n",
    "postman.open_channel()\n",
    "secretary = SecretaryStateMachine(\n",
    "    inbox=inbox, \n",
    "    outbox=outbox, \n",
    "    postman=postman, \n",
    "    subsystem_router=None, \n",
    "    filer=CircularFiler({'print':False}), name=\"bob\")\n",
    "\n",
    "outbox.store({\"message_type\": \"INFO\", \"payload\":\"This is a message\" })\n",
    "inbox.store({\"message_type\": \"INSTRUCTION\", \"payload\":\"blink\"})\n",
    "\n",
    "# secretary.log.setLevel(logging.CRITICAL) # Default is DEBUG, remember to import logging if change is needed\n",
    "secretary.run()"
   ]
  },
  {
   "cell_type": "code",
   "execution_count": 2,
   "id": "a76299a4",
   "metadata": {},
   "outputs": [
    {
     "name": "stdout",
     "output_type": "stream",
     "text": [
      "nom nom nom\n"
     ]
    }
   ],
   "source": [
    "for _ in range(5):\n",
    "    secretary.update()"
   ]
  },
  {
   "cell_type": "markdown",
   "id": "8ec4141d",
   "metadata": {},
   "source": []
  }
 ],
 "metadata": {
  "kernelspec": {
   "display_name": ".venv",
   "language": "python",
   "name": "python3"
  },
  "language_info": {
   "codemirror_mode": {
    "name": "ipython",
    "version": 3
   },
   "file_extension": ".py",
   "mimetype": "text/x-python",
   "name": "python",
   "nbconvert_exporter": "python",
   "pygments_lexer": "ipython3",
   "version": "3.11.3"
  }
 },
 "nbformat": 4,
 "nbformat_minor": 5
}
