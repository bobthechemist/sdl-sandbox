{
 "cells": [
  {
   "cell_type": "code",
   "execution_count": null,
   "id": "159b11e0",
   "metadata": {},
   "outputs": [
    {
     "name": "stderr",
     "output_type": "stream",
     "text": [
      "2025-04-13 14:37:47 - INFO [bob] : Monitoring\n"
     ]
    }
   ],
   "source": [
    "from communicate.message_buffer import LinearMessageBuffer\n",
    "from communicate.postman import DummyPostman\n",
    "from communicate.secretary import SecretaryStateMachine, CircularFiler\n",
    "#import logging\n",
    "\n",
    "inbox = LinearMessageBuffer()\n",
    "outbox = LinearMessageBuffer()\n",
    "postman = DummyPostman({\"protocol\":\"dummy\"})\n",
    "postman.open_channel()\n",
    "secretary = SecretaryStateMachine(\n",
    "    inbox=inbox, \n",
    "    outbox=outbox, \n",
    "    postman=postman, \n",
    "    subsystem_router=None, \n",
    "    filer=CircularFiler({'print':False}), name=\"bob\")\n",
    "\n",
    "inbox.store({\"message_type\": \"INFO\", \"payload\":\"This is a message\" })\n",
    "inbox.store({\"message_type\": \"INSTRUCTION\", \"payload\":\"blink\"})\n",
    "\n",
    "# secretary.log.setLevel(logging.CRITICAL) # Default is DEBUG, remember to import logging if change is needed\n",
    "secretary.run()"
   ]
  },
  {
   "cell_type": "code",
   "execution_count": 2,
   "id": "a76299a4",
   "metadata": {},
   "outputs": [
    {
     "name": "stderr",
     "output_type": "stream",
     "text": [
      "2025-04-13 14:37:47 - INFO [bob] : New message, starting processing\n",
      "2025-04-13 14:37:47 - INFO [bob] : bob left Monitoring after 8817.062 seconds.\n",
      "2025-04-13 14:37:47 - DEBUG [bob] : Reading a message: {'message_type': 'INFO', 'payload': 'This is a message'}\n",
      "2025-04-13 14:37:47 - DEBUG [bob] : I Route nothing, but will eventually route instructions\n",
      "2025-04-13 14:37:47 - DEBUG [bob] : mailing This is a message\n",
      "2025-04-13 14:37:47 - DEBUG [bob] : filing This is a message\n",
      "2025-04-13 14:37:47 - INFO [bob] : bob left Reading after 8817.078 seconds.\n",
      "2025-04-13 14:37:47 - INFO [bob] : Filing the message\n",
      "2025-04-13 14:37:47 - INFO [bob] : bob left Filing after 8817.078 seconds.\n",
      "2025-04-13 14:37:47 - WARNING [bob] : No message! I shouldn't be here\n",
      "2025-04-13 14:37:47 - INFO [bob] : bob left Reading after 8817.078 seconds.\n",
      "2025-04-13 14:37:47 - INFO [bob] : Monitoring\n",
      "2025-04-13 14:37:47 - INFO [bob] : Something to send, calling the postman\n",
      "2025-04-13 14:37:47 - INFO [bob] : New message, starting processing\n",
      "2025-04-13 14:37:47 - INFO [bob] : bob left Monitoring after 8817.078 seconds.\n",
      "2025-04-13 14:37:47 - DEBUG [bob] : Reading a message: {'message_type': 'INSTRUCTION', 'payload': 'blink'}\n",
      "2025-04-13 14:37:47 - DEBUG [bob] : I Route nothing, but will eventually route instructions\n",
      "2025-04-13 14:37:47 - DEBUG [bob] : filing blink\n",
      "2025-04-13 14:37:47 - INFO [bob] : bob left Reading after 8817.078 seconds.\n",
      "2025-04-13 14:37:47 - INFO [bob] : Filing the message\n",
      "2025-04-13 14:37:47 - INFO [bob] : bob left Filing after 8817.078 seconds.\n",
      "2025-04-13 14:37:47 - WARNING [bob] : No message! I shouldn't be here\n",
      "2025-04-13 14:37:47 - INFO [bob] : bob left Reading after 8817.078 seconds.\n",
      "2025-04-13 14:37:47 - INFO [bob] : Monitoring\n"
     ]
    },
    {
     "name": "stdout",
     "output_type": "stream",
     "text": [
      "nom nom nom\n",
      "nom nom nom\n"
     ]
    }
   ],
   "source": [
    "for _ in range(15):\n",
    "    secretary.update()"
   ]
  },
  {
   "cell_type": "code",
   "execution_count": 3,
   "id": "8ce3529c",
   "metadata": {},
   "outputs": [
    {
     "data": {
      "text/plain": [
       "[]"
      ]
     },
     "execution_count": 3,
     "metadata": {},
     "output_type": "execute_result"
    }
   ],
   "source": [
    "secretary.buffer.messages"
   ]
  },
  {
   "cell_type": "markdown",
   "id": "8ec4141d",
   "metadata": {},
   "source": []
  }
 ],
 "metadata": {
  "kernelspec": {
   "display_name": ".venv",
   "language": "python",
   "name": "python3"
  },
  "language_info": {
   "codemirror_mode": {
    "name": "ipython",
    "version": 3
   },
   "file_extension": ".py",
   "mimetype": "text/x-python",
   "name": "python",
   "nbconvert_exporter": "python",
   "pygments_lexer": "ipython3",
   "version": "3.11.3"
  }
 },
 "nbformat": 4,
 "nbformat_minor": 5
}
