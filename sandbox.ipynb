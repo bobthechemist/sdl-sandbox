{
 "cells": [
  {
   "cell_type": "code",
   "execution_count": 1,
   "metadata": {},
   "outputs": [
    {
     "name": "stdout",
     "output_type": "stream",
     "text": [
      "[{'port': 'COM12', 'VID': 808, 'PID': 808}, {'port': 'COM18', 'VID': 809, 'PID': 808}]\n"
     ]
    }
   ],
   "source": [
    "from mse0.messages import make_message\n",
    "from mse0.host_utilities import find_data_comports\n",
    "from mse0 import sdl_communicator\n",
    "\n",
    "ports = find_data_comports()\n",
    "print(ports)\n",
    "\n",
    "subs = [sdl_communicator.sdlCommunicator(port= p['port']) for p in ports]\n",
    "#s = sdl_communicator.sdlCommunicator(port = ports[0]['port'])\n"
   ]
  },
  {
   "cell_type": "code",
   "execution_count": 23,
   "metadata": {},
   "outputs": [],
   "source": [
    "\n",
    "msg = make_message(\"HOST\", \"REQUEST\", \"NA\", \"blink num=10 delay=.1\", jsonq=False)\n",
    "s.writebuffer.store_message(msg)\n",
    "s.write_serial_data()"
   ]
  },
  {
   "cell_type": "code",
   "execution_count": null,
   "metadata": {},
   "outputs": [],
   "source": []
  },
  {
   "cell_type": "code",
   "execution_count": 34,
   "metadata": {},
   "outputs": [],
   "source": [
    "s.read_serial_data()"
   ]
  },
  {
   "cell_type": "markdown",
   "metadata": {},
   "source": [
    "This is markdown "
   ]
  },
  {
   "cell_type": "code",
   "execution_count": 35,
   "metadata": {},
   "outputs": [
    {
     "name": "stdout",
     "output_type": "stream",
     "text": [
      "Let's wait\n"
     ]
    }
   ],
   "source": [
    "if not s.readbuffer.is_empty():\n",
    "    print(s.readbuffer.get_oldest_message(jsonq=False))\n",
    "else:\n",
    "    print(\"Let's wait\")"
   ]
  },
  {
   "cell_type": "markdown",
   "metadata": {},
   "source": [
    "This is more markdown"
   ]
  },
  {
   "cell_type": "markdown",
   "metadata": {},
   "source": [
    "ctrl enter to run cell and stay there\n",
    "shift enter to run cell and move to next one\n",
    "escape to exit cell\n",
    "J K to move up down after escape\n",
    "A B to add above/below after escape\n",
    "Y M to change cell type to code (Y) or markdown (M)\n",
    "DD to delete a cell"
   ]
  }
 ],
 "metadata": {
  "kernelspec": {
   "display_name": ".venv",
   "language": "python",
   "name": "python3"
  },
  "language_info": {
   "codemirror_mode": {
    "name": "ipython",
    "version": 3
   },
   "file_extension": ".py",
   "mimetype": "text/x-python",
   "name": "python",
   "nbconvert_exporter": "python",
   "pygments_lexer": "ipython3",
   "version": "3.11.5"
  }
 },
 "nbformat": 4,
 "nbformat_minor": 2
}
