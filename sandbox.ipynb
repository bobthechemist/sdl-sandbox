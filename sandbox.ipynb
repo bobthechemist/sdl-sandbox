{
 "cells": [
  {
   "cell_type": "code",
   "execution_count": 1,
   "metadata": {},
   "outputs": [
    {
     "name": "stdout",
     "output_type": "stream",
     "text": [
      "Found a device on COM12. (VID:808, PID:808)\n",
      "{'port': 'COM12', 'VID': 808, 'PID': 808}\n"
     ]
    }
   ],
   "source": [
    "from mse0.messages import make_message\n",
    "from mse0.host_utilities import find_data_comports\n",
    "from mse0 import sdl_communicator\n",
    "\n",
    "ports = find_data_comports()\n",
    "print(ports[0])\n",
    "\n",
    "s = sdl_communicator.sdlCommunicator(port = ports[0]['port'])\n"
   ]
  },
  {
   "cell_type": "code",
   "execution_count": 14,
   "metadata": {},
   "outputs": [],
   "source": [
    "\n",
    "msg = make_message(\"HOST\", \"REQUEST\", \"NA\", \"blink num=10 delay=.1\", jsonq=False)\n",
    "s.writebuffer.store_message(msg)\n",
    "s.write_serial_data()"
   ]
  },
  {
   "cell_type": "code",
   "execution_count": 22,
   "metadata": {},
   "outputs": [],
   "source": [
    "s.read_serial_data()"
   ]
  },
  {
   "cell_type": "code",
   "execution_count": 23,
   "metadata": {},
   "outputs": [
    {
     "name": "stdout",
     "output_type": "stream",
     "text": [
      "{'raw': '{\"subsystem_name\": \"Test\", \"status\": \"SUCCESS\", \"comm_type\": \"ALERT\", \"payload\": \"A warning has been raised.\"}{\"subsystem_name\": \"Test\", \"status\": \"SUCCESS\", \"comm_type\": \"ALERT\", \"payload\": \"A warning has been raised.\"}'}\n"
     ]
    }
   ],
   "source": [
    "if not s.readbuffer.is_empty():\n",
    "    print(s.readbuffer.get_oldest_message(jsonq=False))\n",
    "else:\n",
    "    print(\"Let's wait\")"
   ]
  }
 ],
 "metadata": {
  "kernelspec": {
   "display_name": ".venv",
   "language": "python",
   "name": "python3"
  },
  "language_info": {
   "codemirror_mode": {
    "name": "ipython",
    "version": 3
   },
   "file_extension": ".py",
   "mimetype": "text/x-python",
   "name": "python",
   "nbconvert_exporter": "python",
   "pygments_lexer": "ipython3",
   "version": "3.11.5"
  }
 },
 "nbformat": 4,
 "nbformat_minor": 2
}
