{
 "cells": [
  {
   "cell_type": "code",
   "execution_count": 1,
   "metadata": {},
   "outputs": [
    {
     "name": "stdout",
     "output_type": "stream",
     "text": [
      "Found a device on COM20. (VID:808, PID:1)\n",
      "{'port': 'COM20', 'VID': 808, 'PID': 1}\n"
     ]
    }
   ],
   "source": [
    "from mse0.messages import make_message\n",
    "from mse0.host_utilities import find_data_comports\n",
    "from mse0 import sdl_communicator\n",
    "\n",
    "ports = find_data_comports()\n",
    "print(ports[0])\n",
    "\n",
    "s = sdl_communicator.sdlCommunicator(port = ports[0]['port'])\n"
   ]
  },
  {
   "cell_type": "code",
   "execution_count": 2,
   "metadata": {},
   "outputs": [],
   "source": [
    "\n",
    "msg = make_message(\"HOST\", \"REQUEST\", \"NA\", \"blink num=10 delay=0.2\", jsonq=False)\n",
    "s.writebuffer.store_message(msg)\n",
    "s.write_serial_data()"
   ]
  },
  {
   "cell_type": "code",
   "execution_count": 3,
   "metadata": {},
   "outputs": [],
   "source": [
    "s.read_serial_data()"
   ]
  },
  {
   "cell_type": "code",
   "execution_count": 4,
   "metadata": {},
   "outputs": [
    {
     "data": {
      "text/plain": [
       "{'subsystem_name': 'Test',\n",
       " 'status': 'SUCCESS',\n",
       " 'comm_type': 'RESPONSE',\n",
       " 'payload': 'Blinking has completed'}"
      ]
     },
     "execution_count": 4,
     "metadata": {},
     "output_type": "execute_result"
    }
   ],
   "source": [
    "s.readbuffer.get_oldest_message(jsonq=False)"
   ]
  }
 ],
 "metadata": {
  "kernelspec": {
   "display_name": ".venv",
   "language": "python",
   "name": "python3"
  },
  "language_info": {
   "codemirror_mode": {
    "name": "ipython",
    "version": 3
   },
   "file_extension": ".py",
   "mimetype": "text/x-python",
   "name": "python",
   "nbconvert_exporter": "python",
   "pygments_lexer": "ipython3",
   "version": "3.11.3"
  }
 },
 "nbformat": 4,
 "nbformat_minor": 2
}
