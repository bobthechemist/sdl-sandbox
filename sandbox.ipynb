{
 "cells": [
  {
   "cell_type": "code",
   "execution_count": 1,
   "metadata": {},
   "outputs": [
    {
     "name": "stdout",
     "output_type": "stream",
     "text": [
      "[{'port': 'COM19', 'VID': 808, 'PID': 809}]\n"
     ]
    }
   ],
   "source": [
    "from blueprint.messages import make_message\n",
    "from blueprint.host_utilities import find_data_comports\n",
    "from blueprint import sdl_communicator\n",
    "from blueprint.subsystems.directory import vid, pid\n",
    "ports = find_data_comports()\n",
    "print(ports)\n",
    "\n",
    "subs = [sdl_communicator.sdlCommunicator(port= p['port']) for p in ports]\n",
    "\n"
   ]
  },
  {
   "cell_type": "code",
   "execution_count": 25,
   "metadata": {},
   "outputs": [],
   "source": [
    "msg = make_message(payload = 'blink arg1=1 arg2=2 arg3=3')\n",
    "subs[0].writebuffer.store_json(msg)\n",
    "subs[0].write_serial_data()"
   ]
  },
  {
   "cell_type": "code",
   "execution_count": 2,
   "metadata": {},
   "outputs": [
    {
     "name": "stdout",
     "output_type": "stream",
     "text": [
      "Integer Value: 5\n",
      "Float Value: 0.44\n",
      "Selected Option: 1\n"
     ]
    }
   ],
   "source": [
    "import tkinter as tk\n",
    "from tkinter import ttk\n",
    "\n",
    "def execute_command():\n",
    "    # Retrieve values from the sliders and selection box\n",
    "    int_value = int_slider.get()\n",
    "    float_value = float_slider.get()\n",
    "    selected_option = option_var.get()\n",
    "\n",
    "    # Print values for demonstration purposes\n",
    "    print(f\"Integer Value: {int_value}\")\n",
    "    print(f\"Float Value: {float_value}\")\n",
    "    print(f\"Selected Option: {selected_option}\")\n",
    "\n",
    "    # You can replace the print statement with any command you want to execute\n",
    "    # Example command: execute_some_function(int_value, float_value, selected_option)\n",
    "\n",
    "# Create the main window\n",
    "root = tk.Tk()\n",
    "root.title(\"Simple Tkinter UI\")\n",
    "\n",
    "# Integer Slider\n",
    "int_slider_label = tk.Label(root, text=\"Integer Value (1-10)\")\n",
    "int_slider_label.pack(pady=5)\n",
    "\n",
    "int_slider = tk.Scale(root, from_=1, to_=10, orient='horizontal')\n",
    "int_slider.pack(pady=5)\n",
    "int_slider.set(1)  # Set default value\n",
    "\n",
    "# Float Slider\n",
    "float_slider_label = tk.Label(root, text=\"Float Value (0.1-1)\")\n",
    "float_slider_label.pack(pady=5)\n",
    "\n",
    "float_slider = tk.Scale(root, from_=0.1, to_=1, orient='horizontal', resolution=0.01)\n",
    "float_slider.pack(pady=5)\n",
    "float_slider.set(0.1)  # Set default value\n",
    "\n",
    "# Selection Box\n",
    "option_var = tk.IntVar()\n",
    "option_var.set(0)  # Set default value\n",
    "\n",
    "option_box_label = tk.Label(root, text=\"Select Option\")\n",
    "option_box_label.pack(pady=5)\n",
    "\n",
    "option_box = ttk.Combobox(root, textvariable=option_var, values=[0, 1])\n",
    "option_box.pack(pady=5)\n",
    "option_box.set(0)  # Set default value\n",
    "\n",
    "# Execute Button\n",
    "execute_button = tk.Button(root, text=\"Execute Command\", command=execute_command)\n",
    "execute_button.pack(pady=20)\n",
    "\n",
    "# Run the application\n",
    "root.mainloop()\n",
    "\n",
    "\n"
   ]
  },
  {
   "cell_type": "code",
   "execution_count": 1,
   "metadata": {},
   "outputs": [
    {
     "data": {
      "text/plain": [
       "'{\"subsystem_name\": null, \"comm_type\": \"NOTIFY\", \"status\": \"NA\", \"payload\": \"hi ther\"}'"
      ]
     },
     "execution_count": 1,
     "metadata": {},
     "output_type": "execute_result"
    }
   ],
   "source": [
    "from blueprint.messages import make_message\n",
    "make_message(payload = \"hi there\")"
   ]
  },
  {
   "cell_type": "markdown",
   "metadata": {},
   "source": [
    "This is markdown "
   ]
  },
  {
   "cell_type": "markdown",
   "metadata": {},
   "source": [
    "This is more markdown"
   ]
  },
  {
   "cell_type": "markdown",
   "metadata": {},
   "source": [
    "ctrl enter to run cell and stay there\n",
    "shift enter to run cell and move to next one\n",
    "escape to exit cell\n",
    "J K to move up down after escape\n",
    "A B to add above/below after escape\n",
    "Y M to change cell type to code (Y) or markdown (M)\n",
    "DD to delete a cell"
   ]
  }
 ],
 "metadata": {
  "kernelspec": {
   "display_name": ".venv",
   "language": "python",
   "name": "python3"
  },
  "language_info": {
   "codemirror_mode": {
    "name": "ipython",
    "version": 3
   },
   "file_extension": ".py",
   "mimetype": "text/x-python",
   "name": "python",
   "nbconvert_exporter": "python",
   "pygments_lexer": "ipython3",
   "version": "3.11.5"
  }
 },
 "nbformat": 4,
 "nbformat_minor": 2
}
