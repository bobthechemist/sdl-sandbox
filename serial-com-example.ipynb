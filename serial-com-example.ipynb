{
 "cells": [
  {
   "cell_type": "markdown",
   "metadata": {},
   "source": [
    "# Controlling a microcontroller\n",
    "\n",
    "The purpose of this demonstration is to show one way to control a microcontroller via a python program running on a host computer.  The required setup:\n",
    "\n",
    "1. A computer that has python\n",
    "2. A microcontroller running circuitpython\n",
    "3. The two are connected with a USB cable\n",
    "\n",
    "## Programs\n",
    "\n",
    "There are three programs required to make this function. \n",
    "\n",
    "1. A python script running on the HOST computer\n",
    "2. A code.py script running on the MCU \n",
    "3. A boot.py script running on the MCU\n",
    "\n",
    "The third is the easiest. It is only a couple of lines and ensures that the MCU is set up to send and receive serial commands. If it is not present, create a `boot.py` file on the MCU with the following code"
   ]
  },
  {
   "cell_type": "code",
   "execution_count": null,
   "metadata": {},
   "outputs": [],
   "source": [
    "import usb_cdc\n",
    "\n",
    "usb_cdc.enable(console=True, data=True)"
   ]
  },
  {
   "cell_type": "markdown",
   "metadata": {},
   "source": [
    "The `code.py` script below is generic, so make sure you save anything in code.py that you would like to keep before proceeding.  This script will accept two different commands: \"ON\" and \"OFF\". Depending on the command received, it will turn the builtin LED on or off. It also checks to see if the LED is on or off and will warn the user if she is trying to turn the LED off when it is already off, or on when it is already on. It will also capture any unknown commands and respond appropriately."
   ]
  },
  {
   "cell_type": "code",
   "execution_count": null,
   "metadata": {},
   "outputs": [],
   "source": [
    "import board\n",
    "import digitalio\n",
    "import usb_cdc\n",
    "\n",
    "led = digitalio.DigitalInOut(board.D13)\n",
    "led.direction = digitalio.Direction.OUTPUT\n",
    "\n",
    "\n",
    "\n",
    "def read_serial():\n",
    "    if usb_cdc.data.in_waiting > 0:\n",
    "        return usb_cdc.data.readline().decode().strip()\n",
    "    return None\n",
    "\n",
    "while True:\n",
    "    command = read_serial()\n",
    "    if command:\n",
    "        print(f\"Received command: {command}\")  # Debug print\n",
    "        if command == 'ON':\n",
    "            if led.value:\n",
    "                usb_cdc.data.write(b\"Warning: The LED is already on.\\n\")\n",
    "            else:\n",
    "                led.value = True\n",
    "                usb_cdc.data.write(b\"LED is now ON.\\n\")\n",
    "        elif command == 'OFF':\n",
    "            if not led.value:\n",
    "                usb_cdc.data.write(b\"Warning: The LED is already off.\\n\")\n",
    "            else:\n",
    "                led.value = False\n",
    "                usb_cdc.data.write(b\"LED is now OFF.\\n\")\n",
    "        else:\n",
    "            usb_cdc.data.write(b\"Command not understood.\\n\")"
   ]
  },
  {
   "cell_type": "markdown",
   "metadata": {},
   "source": [
    "The program on the HOST is a set of three functions. One sends a serial command, one receives a response from the MCU, and one runs the main script. The structure demonstrates how one can create a \"program\" in python, which could be run by typing something like `python -m myprogram` on the command line.  The program also does some advanced things worth exploring:\n",
    "\n",
    "1. It uses the argparse library to accept the COM port on the command line.  Therefore, it is not necessary to hard code the port into the program.\n",
    "2. It handles the keyboard interrupt so that the program exits cleanly when the user presses CTRL-C."
   ]
  },
  {
   "cell_type": "code",
   "execution_count": null,
   "metadata": {},
   "outputs": [],
   "source": [
    "import serial\n",
    "import time\n",
    "import argparse\n",
    "\n",
    "def send_command(command):\n",
    "\tser.write((command + '\\n').encode())\n",
    "\ttime.sleep(0.5)\n",
    "\n",
    "def get_response():\n",
    "\tresponse = ser.readline().decode().strip()\n",
    "\tif response:\n",
    "\t\tprint(f\"MCU Response: {response}\")\n",
    "\telse:\n",
    "\t\tprint(\"No response received from MCU.\")\n",
    "\n",
    "def main():\n",
    "\tparser = argparse.ArgumentParser(description='MCU Command Line Interface')\n",
    "\tparser.add_argument('com_port', type=str, help=\"The COM port to use\")\n",
    "\targs = parser.parse_args()\n",
    "\n",
    "\tglobal ser\n",
    "\tser = serial.Serial(args.com_port, 115200, timeout = 1)\n",
    "\n",
    "\tprint(f\"Using COM port: {args.com_port}\")\n",
    "\n",
    "\tprint(\"Press CTRL-C to exit the program\")\t\n",
    "\ttry:\n",
    "\t\twhile True:\n",
    "\t\t\tcmd = input('enter MCU command: ')\n",
    "\t\t\tsend_command(cmd)\n",
    "\t\t\tget_response()\n",
    "\texcept KeyboardInterrupt:\n",
    "\t\tprint(\"\\nWe are done.\")\n",
    "\tfinally:\n",
    "\t\tser.close()\n",
    "\n",
    "if __name__ == \"__main__\":\n",
    "\tmain()\n"
   ]
  },
  {
   "cell_type": "markdown",
   "metadata": {},
   "source": [
    "## Operation\n",
    "\n",
    "Make the three files. `boot.py` and `code.py` belong on the MCU and `test_serial.py` goes on HOST.  Once the MCU is setup and plugged in, use the device manager to find the correct com port. You will see that the MCU has created TWO com ports and the one with the lower number is likely the one you want. Run the test serial command by typing `python -m test_serial COMXX` on the command line of your computere where COMXX is the COM port you found earlier. \n",
    "\n",
    "## Understanding\n",
    "\n",
    "Open ChatGPT or your favorite AI program and copy one of the scripts into the prompt and ask it to explain the code. Read through the description.\n",
    "\n",
    "\n",
    "\n"
   ]
  },
  {
   "cell_type": "markdown",
   "metadata": {},
   "source": [
    "# Expansions and additions\n",
    "\n",
    "Getting information about com ports using Python instead of the device manager"
   ]
  },
  {
   "cell_type": "code",
   "execution_count": 14,
   "metadata": {},
   "outputs": [
    {
     "name": "stdout",
     "output_type": "stream",
     "text": [
      "Device: COM21\n",
      "Name: COM21\n",
      "Description: USB Serial Device (COM21)\n",
      "HWID: USB VID:PID=0328:0001 SER=B67EF5F7364D47532020204D420A02FF LOCATION=1-3:x.0\n",
      "VID: 808\n",
      "PID: 1\n",
      "Serial Number: B67EF5F7364D47532020204D420A02FF\n",
      "Location: 1-3:x.0\n",
      "Manufacturer: Microsoft\n",
      "Product: None\n",
      "Interface: None\n",
      "----------------------------------------\n",
      "Device: COM20\n",
      "Name: COM20\n",
      "Description: USB Serial Device (COM20)\n",
      "HWID: USB VID:PID=0328:0001 SER=B67EF5F7364D47532020204D420A02FF LOCATION=1-3:x.2\n",
      "VID: 808\n",
      "PID: 1\n",
      "Serial Number: B67EF5F7364D47532020204D420A02FF\n",
      "Location: 1-3:x.2\n",
      "Manufacturer: Microsoft\n",
      "Product: None\n",
      "Interface: None\n",
      "----------------------------------------\n",
      "Device: COM3\n",
      "Name: COM3\n",
      "Description: Intel(R) Active Management Technology - SOL (COM3)\n",
      "HWID: PCI\\VEN_8086&DEV_51E3&SUBSYS_0B041028&REV_01\\3&11583659&1&B3\n",
      "VID: None\n",
      "PID: None\n",
      "Serial Number: None\n",
      "Location: None\n",
      "Manufacturer: Intel\n",
      "Product: None\n",
      "Interface: None\n",
      "----------------------------------------\n"
     ]
    }
   ],
   "source": [
    "import serial.tools.list_ports\n",
    "\n",
    "def list_com_ports():\n",
    "    ports = serial.tools.list_ports.comports()\n",
    "    for port in ports:\n",
    "        print(f\"Device: {port.device}\")\n",
    "        print(f\"Name: {port.name}\")\n",
    "        print(f\"Description: {port.description}\")\n",
    "        print(f\"HWID: {port.hwid}\")\n",
    "        print(f\"VID: {port.vid}\")\n",
    "        print(f\"PID: {port.pid}\")\n",
    "        print(f\"Serial Number: {port.serial_number}\")\n",
    "        print(f\"Location: {port.location}\")\n",
    "        print(f\"Manufacturer: {port.manufacturer}\")\n",
    "        print(f\"Product: {port.product}\")\n",
    "        print(f\"Interface: {port.interface}\")\n",
    "        print(\"-\" * 40)\n",
    "\n",
    "if __name__ == \"__main__\":\n",
    "    list_com_ports()"
   ]
  },
  {
   "cell_type": "code",
   "execution_count": 2,
   "metadata": {},
   "outputs": [],
   "source": [
    "p = serial.tools.list_ports.comports()"
   ]
  },
  {
   "cell_type": "code",
   "execution_count": 4,
   "metadata": {},
   "outputs": [
    {
     "data": {
      "text/plain": [
       "['__class__',\n",
       " '__delattr__',\n",
       " '__dict__',\n",
       " '__dir__',\n",
       " '__doc__',\n",
       " '__eq__',\n",
       " '__format__',\n",
       " '__ge__',\n",
       " '__getattribute__',\n",
       " '__getitem__',\n",
       " '__getstate__',\n",
       " '__gt__',\n",
       " '__hash__',\n",
       " '__init__',\n",
       " '__init_subclass__',\n",
       " '__le__',\n",
       " '__lt__',\n",
       " '__module__',\n",
       " '__ne__',\n",
       " '__new__',\n",
       " '__reduce__',\n",
       " '__reduce_ex__',\n",
       " '__repr__',\n",
       " '__setattr__',\n",
       " '__sizeof__',\n",
       " '__str__',\n",
       " '__subclasshook__',\n",
       " '__weakref__',\n",
       " 'apply_usb_info',\n",
       " 'description',\n",
       " 'device',\n",
       " 'hwid',\n",
       " 'interface',\n",
       " 'location',\n",
       " 'manufacturer',\n",
       " 'name',\n",
       " 'pid',\n",
       " 'product',\n",
       " 'serial_number',\n",
       " 'usb_description',\n",
       " 'usb_info',\n",
       " 'vid']"
      ]
     },
     "execution_count": 4,
     "metadata": {},
     "output_type": "execute_result"
    }
   ],
   "source": [
    "dir(p[0])"
   ]
  },
  {
   "cell_type": "code",
   "execution_count": 13,
   "metadata": {},
   "outputs": [
    {
     "data": {
      "text/plain": [
       "<bound method ListPortInfo.apply_usb_info of <serial.tools.list_ports_common.ListPortInfo object at 0x000002561C590C10>>"
      ]
     },
     "execution_count": 13,
     "metadata": {},
     "output_type": "execute_result"
    }
   ],
   "source": [
    "p[0].apply_usb_info"
   ]
  },
  {
   "cell_type": "code",
   "execution_count": null,
   "metadata": {},
   "outputs": [],
   "source": []
  }
 ],
 "metadata": {
  "kernelspec": {
   "display_name": ".venv",
   "language": "python",
   "name": "python3"
  },
  "language_info": {
   "codemirror_mode": {
    "name": "ipython",
    "version": 3
   },
   "file_extension": ".py",
   "mimetype": "text/x-python",
   "name": "python",
   "nbconvert_exporter": "python",
   "pygments_lexer": "ipython3",
   "version": "3.11.3"
  }
 },
 "nbformat": 4,
 "nbformat_minor": 2
}
