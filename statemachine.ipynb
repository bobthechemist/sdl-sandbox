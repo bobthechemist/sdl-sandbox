{
 "cells": [
  {
   "cell_type": "code",
   "execution_count": 6,
   "metadata": {},
   "outputs": [
    {
     "name": "stdout",
     "output_type": "stream",
     "text": [
      "Exiting Shutdown.\n",
      "Entering Initialize.\n",
      "finished doing startup stuff\n",
      "Exiting Initialize.\n",
      "Entering Listening.\n",
      "Exiting Listening.\n",
      "Entering Sending.\n",
      "Exiting Sending.\n",
      "Entering Listening.\n",
      "I'm bored, shutting down\n",
      "Exiting Listening.\n",
      "Entering Shutdown.\n",
      "Closing all serial connections\n"
     ]
    }
   ],
   "source": [
    "from blueprint.subsystems.hostfsm import machine as host\n",
    "from time import sleep\n",
    "\n",
    "host.run('Initialize')\n",
    "while host.running:\n",
    "    host.update()\n",
    "    sleep(0.001) # don't overload processor\n",
    "\n",
    "\n",
    "\n"
   ]
  },
  {
   "cell_type": "markdown",
   "metadata": {},
   "source": []
  }
 ],
 "metadata": {
  "kernelspec": {
   "display_name": "Python 3",
   "language": "python",
   "name": "python3"
  },
  "language_info": {
   "codemirror_mode": {
    "name": "ipython",
    "version": 3
   },
   "file_extension": ".py",
   "mimetype": "text/x-python",
   "name": "python",
   "nbconvert_exporter": "python",
   "pygments_lexer": "ipython3",
   "version": "3.11.5"
  }
 },
 "nbformat": 4,
 "nbformat_minor": 2
}
