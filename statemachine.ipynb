{
 "cells": [
  {
   "cell_type": "code",
   "execution_count": null,
   "metadata": {},
   "outputs": [],
   "source": [
    "from mse0.statemachine import State, StateMachine\n",
    "from time import monotonic\n",
    "\n",
    "#States\n",
    "#Listening, Initializing, Reacting, Error, Responding, Shutdown\n",
    "#Some of these might be the same (Listening, Responding)\n",
    "\n",
    "class Initialize(State):\n",
    "    def __init__(self):\n",
    "        super().__init__()\n",
    "\n",
    "    @property\n",
    "    def name(self):\n",
    "        return 'Startup'\n",
    "    \n",
    "    def enter(self, machine):\n",
    "        self.entered_at = monotonic()\n",
    "\n",
    "    def update(self, machine):\n",
    "        print(\"finished doing startup stuff\")\n",
    "        machine.go_to_state(\"State 1\")\n",
    "\n",
    "\n",
    "class OneState(State):\n",
    "    def __init__(self):\n",
    "        super().__init__()\n",
    "        \n",
    "\n",
    "    @property\n",
    "    def name(self):\n",
    "        return 'State 1'\n",
    "    \n",
    "    def enter(self, machine):\n",
    "        self.entered_at = monotonic()\n",
    "        print(f'entered at {self.entered_at}.')\n",
    "        machine.counter = machine.counter + 1\n",
    "\n",
    "    \n",
    "    def update(self, machine):\n",
    "        if monotonic() - self.entered_at > 2:\n",
    "            machine.go_to_state('State 2')\n",
    "        if machine.counter >= 4:\n",
    "            print(f'counter is {machine.counter} which is different from {self.counter}')\n",
    "            machine.go_to_state('Shutdown')\n",
    "    \n",
    "\n",
    "class TwoState(State):\n",
    "    def __init__(self):\n",
    "        super().__init__()\n",
    "        \n",
    "\n",
    "    @property\n",
    "    def name(self):\n",
    "        return 'State 2'\n",
    "    \n",
    "    def enter(self, machine):\n",
    "        self.entered_at = monotonic()\n",
    "        machine.counter = machine.counter + 1\n",
    "\n",
    "    def update(self, machine):\n",
    "        if monotonic() - self.entered_at > 3:\n",
    "            machine.go_to_state('State 1')\n",
    "        if machine.counter >= 4:\n",
    "            print(f'counter is {machine.counter} which is different from {self.counter}')\n",
    "            machine.go_to_state('Shutdown')\n",
    "        \n",
    "    \n",
    "class Shutdown(State):\n",
    "    def __init__(self):\n",
    "        super().__init__()\n",
    "        \n",
    "\n",
    "    @property\n",
    "    def name(self):\n",
    "        return 'Shutdown'    \n",
    "\n",
    "    def enter(self, machine):\n",
    "        print('we are done')\n",
    "        machine.stop()\n",
    "\n",
    "# Create the state machine. `machine` should be the name of the subsystem\n",
    "machine = StateMachine()\n",
    "# Add the states that have been created\n",
    "machine.add_state(Initialize())\n",
    "machine.add_state(OneState())\n",
    "machine.add_state(TwoState())\n",
    "machine.add_state(Shutdown())\n",
    "# Set the initial state\n",
    "machine.go_to_state('Startup')\n",
    "# Code that user will run to get the subsystem going\n",
    "'''\n",
    "machine.run()\n",
    "while machine.running:\n",
    "    machine.update()\n",
    "'''\n",
    "\n"
   ]
  },
  {
   "cell_type": "code",
   "execution_count": null,
   "metadata": {},
   "outputs": [],
   "source": [
    "from time import sleep\n",
    "print(list(machine.states.keys()))\n",
    "machine.go_to_state('Startup')\n",
    "machine.run()\n",
    "while machine.running:\n",
    "    machine.update()\n",
    "    sleep(1)\n"
   ]
  },
  {
   "cell_type": "code",
   "execution_count": 1,
   "metadata": {},
   "outputs": [
    {
     "name": "stdout",
     "output_type": "stream",
     "text": [
      "Entering Initialize\n",
      "finished doing startup stuff\n",
      "Exiting Initialize.\n",
      "Entering Listening\n",
      "Exiting Listening.\n",
      "Entering Sending\n",
      "Exiting Sending.\n",
      "Entering Listening\n",
      "{'subsystem_name': 'Test', 'status': 'SUCCESS', 'comm_type': 'RESPONSE', 'payload': 'Blinking has completed'}\n",
      "{'subsystem_name': 'Test', 'status': 'SUCCESS', 'comm_type': 'RESPONSE', 'payload': 'Blinking has completed'}\n",
      "I'm bored, shutting down\n",
      "Exiting Listening.\n",
      "Entering Shutdown\n",
      "Closing all serial connections\n"
     ]
    }
   ],
   "source": [
    "from mse0.subsystems.hostfsm import machine as host\n",
    "from time import sleep\n",
    "\n",
    "host.run('Initialize')\n",
    "while host.running:\n",
    "    host.update()\n",
    "    sleep(0.001) # don't overload processor\n",
    "\n",
    "\n",
    "\n"
   ]
  },
  {
   "cell_type": "code",
   "execution_count": 3,
   "metadata": {},
   "outputs": [
    {
     "ename": "IndexError",
     "evalue": "list index out of range",
     "output_type": "error",
     "traceback": [
      "\u001b[1;31m---------------------------------------------------------------------------\u001b[0m",
      "\u001b[1;31mIndexError\u001b[0m                                Traceback (most recent call last)",
      "Cell \u001b[1;32mIn[3], line 1\u001b[0m\n\u001b[1;32m----> 1\u001b[0m \u001b[43mmachine\u001b[49m\u001b[38;5;241;43m.\u001b[39;49m\u001b[43mproperties\u001b[49m\u001b[43m[\u001b[49m\u001b[38;5;124;43m'\u001b[39;49m\u001b[38;5;124;43msubsystems\u001b[39;49m\u001b[38;5;124;43m'\u001b[39;49m\u001b[43m]\u001b[49m\u001b[43m[\u001b[49m\u001b[38;5;241;43m1\u001b[39;49m\u001b[43m]\u001b[49m\u001b[38;5;241m.\u001b[39mserial\n",
      "\u001b[1;31mIndexError\u001b[0m: list index out of range"
     ]
    }
   ],
   "source": [
    "machine.properties['subsystems'][1].serial"
   ]
  },
  {
   "cell_type": "markdown",
   "metadata": {},
   "source": []
  },
  {
   "cell_type": "code",
   "execution_count": 4,
   "metadata": {},
   "outputs": [
    {
     "name": "stdout",
     "output_type": "stream",
     "text": [
      "Exiting Listening.\n",
      "Entering Sending\n",
      "Exiting Sending.\n",
      "Entering Listening\n"
     ]
    }
   ],
   "source": [
    "machine.update()"
   ]
  }
 ],
 "metadata": {
  "kernelspec": {
   "display_name": "Python 3",
   "language": "python",
   "name": "python3"
  },
  "language_info": {
   "codemirror_mode": {
    "name": "ipython",
    "version": 3
   },
   "file_extension": ".py",
   "mimetype": "text/x-python",
   "name": "python",
   "nbconvert_exporter": "python",
   "pygments_lexer": "ipython3",
   "version": "3.11.5"
  }
 },
 "nbformat": 4,
 "nbformat_minor": 2
}
