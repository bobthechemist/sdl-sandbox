{
 "cells": [
  {
   "cell_type": "code",
   "execution_count": null,
   "metadata": {},
   "outputs": [],
   "source": [
    "from mse0.statemachine import State, StateMachine\n",
    "from time import monotonic\n",
    "\n",
    "#States\n",
    "#Listening, Initializing, Reacting, Error, Responding, Shutdown\n",
    "#Some of these might be the same (Listening, Responding)\n",
    "\n",
    "class Initialize(State):\n",
    "    def __init__(self):\n",
    "        super().__init__()\n",
    "\n",
    "    @property\n",
    "    def name(self):\n",
    "        return 'Startup'\n",
    "    \n",
    "    def enter(self, machine):\n",
    "        self.entered_at = monotonic()\n",
    "\n",
    "    def update(self, machine):\n",
    "        print(\"finished doing startup stuff\")\n",
    "        machine.go_to_state(\"State 1\")\n",
    "\n",
    "\n",
    "class OneState(State):\n",
    "    def __init__(self):\n",
    "        super().__init__()\n",
    "        \n",
    "\n",
    "    @property\n",
    "    def name(self):\n",
    "        return 'State 1'\n",
    "    \n",
    "    def enter(self, machine):\n",
    "        self.entered_at = monotonic()\n",
    "        print(f'entered at {self.entered_at}.')\n",
    "        machine.counter = machine.counter + 1\n",
    "\n",
    "    \n",
    "    def update(self, machine):\n",
    "        if monotonic() - self.entered_at > 2:\n",
    "            machine.go_to_state('State 2')\n",
    "        if machine.counter >= 4:\n",
    "            print(f'counter is {machine.counter} which is different from {self.counter}')\n",
    "            machine.go_to_state('Shutdown')\n",
    "    \n",
    "\n",
    "class TwoState(State):\n",
    "    def __init__(self):\n",
    "        super().__init__()\n",
    "        \n",
    "\n",
    "    @property\n",
    "    def name(self):\n",
    "        return 'State 2'\n",
    "    \n",
    "    def enter(self, machine):\n",
    "        self.entered_at = monotonic()\n",
    "        machine.counter = machine.counter + 1\n",
    "\n",
    "    def update(self, machine):\n",
    "        if monotonic() - self.entered_at > 3:\n",
    "            machine.go_to_state('State 1')\n",
    "        if machine.counter >= 4:\n",
    "            print(f'counter is {machine.counter} which is different from {self.counter}')\n",
    "            machine.go_to_state('Shutdown')\n",
    "        \n",
    "    \n",
    "class Shutdown(State):\n",
    "    def __init__(self):\n",
    "        super().__init__()\n",
    "        \n",
    "\n",
    "    @property\n",
    "    def name(self):\n",
    "        return 'Shutdown'    \n",
    "\n",
    "    def enter(self, machine):\n",
    "        print('we are done')\n",
    "        machine.stop()\n",
    "\n",
    "# Create the state machine. `machine` should be the name of the subsystem\n",
    "machine = StateMachine()\n",
    "# Add the states that have been created\n",
    "machine.add_state(Initialize())\n",
    "machine.add_state(OneState())\n",
    "machine.add_state(TwoState())\n",
    "machine.add_state(Shutdown())\n",
    "# Set the initial state\n",
    "machine.go_to_state('Startup')\n",
    "# Code that user will run to get the subsystem going\n",
    "'''\n",
    "machine.run()\n",
    "while machine.running:\n",
    "    machine.update()\n",
    "'''\n",
    "\n"
   ]
  },
  {
   "cell_type": "code",
   "execution_count": null,
   "metadata": {},
   "outputs": [],
   "source": [
    "from time import sleep\n",
    "print(list(machine.states.keys()))\n",
    "machine.go_to_state('Startup')\n",
    "machine.run()\n",
    "while machine.running:\n",
    "    machine.update()\n",
    "    sleep(1)\n"
   ]
  },
  {
   "cell_type": "code",
   "execution_count": 2,
   "metadata": {},
   "outputs": [
    {
     "name": "stdout",
     "output_type": "stream",
     "text": [
      "Exiting Shutdown.\n",
      "Entering Initialize\n",
      "finished doing startup stuff\n",
      "Exiting Initialize.\n",
      "Entering Listening\n",
      "Exiting Listening.\n",
      "Entering Sending\n",
      "Exiting Sending.\n",
      "Entering Shutdown\n",
      "Closing all serial connections\n"
     ]
    }
   ],
   "source": [
    "from mse0.subsystems.hostfsm import machine\n",
    "from time import sleep\n",
    "from mse0.messages import make_message\n",
    "\n",
    "machine.run('Initialize')\n",
    "while machine.running:\n",
    "    machine.update()\n",
    "\n",
    "\n",
    "\n"
   ]
  },
  {
   "cell_type": "code",
   "execution_count": 4,
   "metadata": {},
   "outputs": [],
   "source": [
    "machine.properties['subsystems'][0].subsystem_name\n",
    "msg = make_message(\"HOST\", \"REQUEST\", \"NA\", \"blink num=10 delay=.1\", jsonq=False)\n",
    "machine.properties['subsystems'][0].writebuffer.store_message(msg)\n",
    "machine.properties['subsystems'][0].write_serial_data()"
   ]
  },
  {
   "cell_type": "markdown",
   "metadata": {},
   "source": []
  },
  {
   "cell_type": "code",
   "execution_count": null,
   "metadata": {},
   "outputs": [],
   "source": [
    "from mse0.messages import make_message\n",
    "msg = make_message(\"HOST\", \"REQUEST\", \"NA\", \"blink num=10 delay=.1\", jsonq=False)\n",
    "s.writebuffer.store_message(msg)\n",
    "s.write_serial_data()"
   ]
  }
 ],
 "metadata": {
  "kernelspec": {
   "display_name": "Python 3",
   "language": "python",
   "name": "python3"
  },
  "language_info": {
   "codemirror_mode": {
    "name": "ipython",
    "version": 3
   },
   "file_extension": ".py",
   "mimetype": "text/x-python",
   "name": "python",
   "nbconvert_exporter": "python",
   "pygments_lexer": "ipython3",
   "version": "3.11.5"
  }
 },
 "nbformat": 4,
 "nbformat_minor": 2
}
