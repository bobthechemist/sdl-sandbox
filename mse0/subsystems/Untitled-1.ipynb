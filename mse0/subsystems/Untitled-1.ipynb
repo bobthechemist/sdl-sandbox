{
 "cells": [
  {
   "cell_type": "code",
   "execution_count": 12,
   "metadata": {},
   "outputs": [],
   "source": [
    "from time import monotonic\n",
    "\n",
    "class StateMachine:\n",
    "\n",
    "    def __init__(self):\n",
    "        self.state = None\n",
    "        self.states = {}\n",
    "\n",
    "    def add_state(self, state):\n",
    "        self.states[state.name] = state\n",
    "\n",
    "    def go_to_state(self, state_name):\n",
    "        if self.state:\n",
    "            print(f'Exiting {self.state.name}.')\n",
    "            self.state.exit(self)\n",
    "        self.state = self.states[state_name]\n",
    "        print(f'Entering {self.state.name}')\n",
    "        self.state.enter(self)\n",
    "    \n",
    "    def update(self):\n",
    "        if self.state:\n",
    "            #print(f'Updating {self.state.name}')\n",
    "            self.state.update(self)\n",
    "    \n",
    "\n",
    "class State:\n",
    "    def __init__(self):\n",
    "        self.entered_at = 0\n",
    "\n",
    "    @property\n",
    "    def name(self):\n",
    "        return ''\n",
    "    \n",
    "    def enter(self, machine):\n",
    "        pass\n",
    "\n",
    "    def exit(self, machine):\n",
    "        pass\n",
    "\n",
    "    def update(self, machine):\n",
    "        pass\n",
    "\n",
    "#States\n",
    "#Listening, Initializing, Reacting, Error, Responding, Shutdown\n",
    "#Some of these might be the same (Listening, Responding)\n",
    "\n",
    "class OneState(State):\n",
    "    def __init__(self):\n",
    "        super().__init__()\n",
    "        \n",
    "\n",
    "    @property\n",
    "    def name(self):\n",
    "        return 'State 1'\n",
    "    \n",
    "    def enter(self, machine):\n",
    "        self.entered_at = monotonic()\n",
    "        print(f'entered at {self.entered_at}.')\n",
    "    \n",
    "    def update(self, machine):\n",
    "        if monotonic() - self.entered_at > 2:\n",
    "            machine.go_to_state('State 2')\n",
    "\n",
    "    \n",
    "\n",
    "class TwoState(State):\n",
    "    def __init__(self):\n",
    "        super().__init__()\n",
    "        \n",
    "\n",
    "    @property\n",
    "    def name(self):\n",
    "        return 'State 2'\n",
    "    \n",
    "    def enter(self, machine):\n",
    "        self.entered_at = monotonic()\n",
    "    \n",
    "    def update(self, machine):\n",
    "        if monotonic() - self.entered_at > 3:\n",
    "            machine.go_to_state('State 1')\n",
    "        \n",
    "    \n",
    "\n",
    "\n",
    "machine = StateMachine()\n",
    "machine.add_state(OneState())\n",
    "machine.add_state(TwoState())\n",
    "\n"
   ]
  },
  {
   "cell_type": "code",
   "execution_count": 11,
   "metadata": {},
   "outputs": [
    {
     "name": "stdout",
     "output_type": "stream",
     "text": [
      "Entering State 1\n",
      "entered at 1254548.281.\n",
      "{'State 1': <__main__.OneState object at 0x0000020C634C4FD0>, 'State 2': <__main__.TwoState object at 0x0000020C62F0D790>}\n",
      "Exiting State 1.\n",
      "Entering State 2\n"
     ]
    },
    {
     "ename": "KeyboardInterrupt",
     "evalue": "",
     "output_type": "error",
     "traceback": [
      "\u001b[1;31m---------------------------------------------------------------------------\u001b[0m",
      "\u001b[1;31mKeyboardInterrupt\u001b[0m                         Traceback (most recent call last)",
      "Cell \u001b[1;32mIn[11], line 6\u001b[0m\n\u001b[0;32m      4\u001b[0m \u001b[38;5;28;01mwhile\u001b[39;00m \u001b[38;5;28;01mTrue\u001b[39;00m:\n\u001b[0;32m      5\u001b[0m     machine\u001b[38;5;241m.\u001b[39mupdate()\n\u001b[1;32m----> 6\u001b[0m     \u001b[43msleep\u001b[49m\u001b[43m(\u001b[49m\u001b[38;5;241;43m1\u001b[39;49m\u001b[43m)\u001b[49m\n",
      "\u001b[1;31mKeyboardInterrupt\u001b[0m: "
     ]
    }
   ],
   "source": [
    "from time import sleep\n",
    "machine.go_to_state('State 1')\n",
    "print(machine.states)\n",
    "while True:\n",
    "    machine.update()\n",
    "    sleep(1)\n"
   ]
  },
  {
   "cell_type": "markdown",
   "metadata": {},
   "source": []
  }
 ],
 "metadata": {
  "kernelspec": {
   "display_name": "Python 3",
   "language": "python",
   "name": "python3"
  },
  "language_info": {
   "codemirror_mode": {
    "name": "ipython",
    "version": 3
   },
   "file_extension": ".py",
   "mimetype": "text/x-python",
   "name": "python",
   "nbconvert_exporter": "python",
   "pygments_lexer": "ipython3",
   "version": "3.11.3"
  }
 },
 "nbformat": 4,
 "nbformat_minor": 2
}
